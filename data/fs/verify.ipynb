{
 "cells": [
  {
   "cell_type": "code",
   "execution_count": null,
   "id": "1ec9f038",
   "metadata": {},
   "outputs": [],
   "source": [
    "import csv\n",
    "import pathlib\n",
    "\n",
    "import matplotlib.pyplot as plt\n",
    "import numpy as np"
   ]
  },
  {
   "cell_type": "code",
   "execution_count": null,
   "id": "0e31a031",
   "metadata": {},
   "outputs": [],
   "source": [
    "path_true = pathlib.PurePath('..', 'Internet2', 'measurements', '20240804190000.csv')\n",
    "path_estimated = pathlib.PurePath('links_300.csv')"
   ]
  },
  {
   "cell_type": "code",
   "execution_count": null,
   "id": "79c9cbc9",
   "metadata": {},
   "outputs": [],
   "source": [
    "map_x = {}\n",
    "with open(path_true, 'r') as f:\n",
    "    reader = csv.DictReader(f)\n",
    "    for line in reader:\n",
    "        map_x[(line['source_id'], line['target_id'])] = float(line['throughput'])"
   ]
  },
  {
   "cell_type": "code",
   "execution_count": null,
   "id": "34b67972",
   "metadata": {},
   "outputs": [],
   "source": [
    "map_y = {}\n",
    "with open(path_estimated, 'r') as f:\n",
    "    reader = csv.DictReader(f)\n",
    "    for line in reader:\n",
    "        map_y[(line['source_id'], line['target_id'])] = float(line['throughput'])"
   ]
  },
  {
   "cell_type": "code",
   "execution_count": null,
   "id": "5bd5ef1f",
   "metadata": {},
   "outputs": [],
   "source": [
    "x = np.array([map_x[key] for key in map_x])\n",
    "y = np.array([map_y[key] if key in map_y else 0. for key in map_x])"
   ]
  },
  {
   "cell_type": "code",
   "execution_count": null,
   "id": "5fa93213",
   "metadata": {},
   "outputs": [],
   "source": [
    "plt.plot(\n",
    "    np.log(x + 1.),\n",
    "    np.log(y + 1.),\n",
    "    'b.'\n",
    ")\n",
    "plt.show()"
   ]
  },
  {
   "cell_type": "code",
   "execution_count": null,
   "id": "2eba217c",
   "metadata": {},
   "outputs": [],
   "source": [
    "np.corrcoef(np.log(x + 1.), np.log(y + 1.))"
   ]
  }
 ],
 "metadata": {
  "kernelspec": {
   "display_name": "Python 3",
   "language": "python",
   "name": "python3"
  },
  "language_info": {
   "codemirror_mode": {
    "name": "ipython",
    "version": 3
   },
   "file_extension": ".py",
   "mimetype": "text/x-python",
   "name": "python",
   "nbconvert_exporter": "python",
   "pygments_lexer": "ipython3",
   "version": "3.12.3"
  }
 },
 "nbformat": 4,
 "nbformat_minor": 5
}
