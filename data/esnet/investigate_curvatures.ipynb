{
 "cells": [
  {
   "cell_type": "code",
   "execution_count": null,
   "id": "a36277e3",
   "metadata": {},
   "outputs": [],
   "source": [
    "import pathlib\n",
    "import sys\n",
    "\n",
    "from matplotlib import pyplot as plt\n",
    "\n",
    "sys.path.append(str(pathlib.PurePath('..', '..', 'src')))\n",
    "from linear_geodesic_optimization.data import input_network"
   ]
  },
  {
   "cell_type": "code",
   "execution_count": null,
   "id": "18368326",
   "metadata": {},
   "outputs": [],
   "source": [
    "path_probes = pathlib.PurePath('probes.csv')\n",
    "path_links = pathlib.PurePath('links', '1742792400000.csv')\n",
    "\n",
    "def get_curvatures(latency_threshold):\n",
    "    graph = input_network.get_graph_from_paths(\n",
    "        path_probes, path_links,\n",
    "        epsilon=latency_threshold,\n",
    "        clustering_distance=500000\n",
    "    )\n",
    "    curvatures = {\n",
    "        (min(u, v), max(u, v)): data['ricciCurvature']\n",
    "        for u, v, data in graph.edges(data=True)\n",
    "    }\n",
    "    return curvatures"
   ]
  },
  {
   "cell_type": "code",
   "execution_count": null,
   "id": "b33acd1e",
   "metadata": {},
   "outputs": [],
   "source": [
    "for threshold in range(1, 17):\n",
    "    fig, ax = plt.subplots(1, 1)\n",
    "    curvatures = list(get_curvatures(threshold).values())\n",
    "    ax.hist(curvatures, range=(-2, 1))\n",
    "    ax.set_title(f'$\\\\epsilon = {threshold}$')\n",
    "    ax.set_xlabel('Ricci Curvature')\n",
    "    ax.set_ylabel('Occurrence Count')\n",
    "    negative_count = sum(curvature < 0. for curvature in curvatures)\n",
    "    print(f'At epsilon = {threshold}, there are {negative_count} negative curvatures, with a min of {min(curvatures):0.4f}')\n",
    "    plt.show()"
   ]
  },
  {
   "cell_type": "code",
   "execution_count": null,
   "id": "8f25b20b",
   "metadata": {},
   "outputs": [],
   "source": [
    "negative_edges = {}\n",
    "for threshold in range(1, 17):\n",
    "    curvatures = get_curvatures(threshold)\n",
    "    for (u, v), curvature in curvatures.items():\n",
    "        if (u, v) not in negative_edges:\n",
    "            negative_edges[(u, v)] = threshold\n",
    "negative_edges_sorted = list(sorted([\n",
    "    (threshold, (u, v))\n",
    "    for (u, v), threshold in negative_edges.items()\n",
    "]))\n",
    "for threshold, (u, v) in negative_edges_sorted:\n",
    "    print(f'Link {u} -> {v} achieves negative curvature first at threshold {threshold}')"
   ]
  },
  {
   "cell_type": "code",
   "execution_count": null,
   "id": "fb06aa84",
   "metadata": {},
   "outputs": [],
   "source": [
    "added_edges_counts = {}\n",
    "for threshold in negative_edges.values():\n",
    "    if threshold not in added_edges_counts:\n",
    "        added_edges_counts[threshold] = 1\n",
    "    else:\n",
    "        added_edges_counts[threshold] += 1\n",
    "for threshold, count in sorted(added_edges_counts.items()):\n",
    "    print(f'{count} new negative curvature links at threshold {threshold}')"
   ]
  },
  {
   "cell_type": "code",
   "execution_count": null,
   "id": "83dff686",
   "metadata": {},
   "outputs": [],
   "source": [
    "print(f'{len(negative_edges)} total links have negative curvature at some point')"
   ]
  }
 ],
 "metadata": {
  "kernelspec": {
   "display_name": "Python 3",
   "language": "python",
   "name": "python3"
  },
  "language_info": {
   "codemirror_mode": {
    "name": "ipython",
    "version": 3
   },
   "file_extension": ".py",
   "mimetype": "text/x-python",
   "name": "python",
   "nbconvert_exporter": "python",
   "pygments_lexer": "ipython3",
   "version": "3.12.10"
  }
 },
 "nbformat": 4,
 "nbformat_minor": 5
}
