{
 "cells": [
  {
   "cell_type": "code",
   "execution_count": null,
   "metadata": {},
   "outputs": [],
   "source": [
    "import sys\n",
    "import time\n",
    "\n",
    "import dcelmesh\n",
    "import matplotlib.pyplot as plt\n",
    "import numpy as np\n",
    "from scipy import sparse\n",
    "\n",
    "from linear_geodesic_optimization.mesh.rectangle import Mesh as RectangleMesh\n",
    "from linear_geodesic_optimization.optimization.geodesic import Computer as Geodesic\n",
    "from linear_geodesic_optimization.optimization.laplacian import Computer as Laplacian\n",
    "from linear_geodesic_optimization.plot import get_heat_map"
   ]
  },
  {
   "cell_type": "code",
   "execution_count": null,
   "metadata": {},
   "outputs": [],
   "source": [
    "seed = time.time_ns()\n",
    "seed = seed % (2**32 - 1)\n",
    "print(f'Seed: {seed}')\n",
    "rng = np.random.default_rng(seed)"
   ]
  },
  {
   "cell_type": "code",
   "execution_count": null,
   "metadata": {},
   "outputs": [],
   "source": [
    "width = 30\n",
    "height = 30\n",
    "\n",
    "mesh = RectangleMesh(width, height)\n",
    "topology = mesh.get_topology()\n",
    "laplacian = Laplacian(mesh)\n",
    "source_index = mesh.nearest_vertex(np.array([0., 0.])).index()\n",
    "target_indices = [\n",
    "    mesh.nearest_vertex(np.array([0.25, 0.25])).index(),\n",
    "    mesh.nearest_vertex(np.array([0.25, -0.25])).index(),\n",
    "]\n",
    "geodesic = Geodesic(mesh, source_index, target_indices, laplacian, 1000.)\n",
    "\n",
    "z = mesh.set_parameters(rng.random(width * height))\n",
    "dz = rng.random(width * height)\n",
    "# dz = np.zeros(topology.n_vertices())\n",
    "# dz[mesh.nearest_vertex(np.array([0., 0.])).index()] = 1.\n",
    "dz = 1e-7 * dz / np.linalg.norm(dz)"
   ]
  },
  {
   "cell_type": "code",
   "execution_count": null,
   "metadata": {},
   "outputs": [],
   "source": [
    "def f(geodesic: Geodesic, z):\n",
    "    mesh.set_parameters(z)\n",
    "    geodesic.forward()\n",
    "    return geodesic.distances[target_indices[0]]\n",
    "\n",
    "def g(geodesic: Geodesic, z, dz):\n",
    "    mesh.set_parameters(z)\n",
    "    geodesic.reverse()\n",
    "    return geodesic.dif_distances[target_indices[0]] @ dz / np.linalg.norm(dz)"
   ]
  },
  {
   "cell_type": "code",
   "execution_count": null,
   "metadata": {},
   "outputs": [],
   "source": [
    "quantity_z = np.array(f(geodesic, z)).flatten()\n",
    "dif_quantity = np.array(g(geodesic, z, dz)).flatten()\n",
    "quantity_z_dz = np.array(f(geodesic, z + dz)).flatten()\n",
    "estimated_dif_quantity = (quantity_z_dz - quantity_z) / np.linalg.norm(dz)"
   ]
  },
  {
   "cell_type": "code",
   "execution_count": null,
   "metadata": {},
   "outputs": [],
   "source": [
    "quotient = np.linalg.norm(dif_quantity) / np.linalg.norm(estimated_dif_quantity)\n",
    "print(f'Quotient of magnitudes: {quotient:.6f}')\n",
    "\n",
    "angle = np.arccos(dif_quantity @ estimated_dif_quantity\n",
    "                  / (np.linalg.norm(dif_quantity)\n",
    "                     * np.linalg.norm(estimated_dif_quantity)))\n",
    "print(f'Angle between:          {angle:.6f}')"
   ]
  }
 ],
 "metadata": {
  "kernelspec": {
   "display_name": "Python 3",
   "language": "python",
   "name": "python3"
  },
  "language_info": {
   "codemirror_mode": {
    "name": "ipython",
    "version": 3
   },
   "file_extension": ".py",
   "mimetype": "text/x-python",
   "name": "python",
   "nbconvert_exporter": "python",
   "pygments_lexer": "ipython3",
   "version": "3.11.5"
  },
  "orig_nbformat": 4,
  "vscode": {
   "interpreter": {
    "hash": "5d89b9b29506d1129e078cbafd5718f53824d76c4e79258120e482e59221da99"
   }
  }
 },
 "nbformat": 4,
 "nbformat_minor": 2
}
