{
 "cells": [
  {
   "cell_type": "code",
   "execution_count": null,
   "metadata": {},
   "outputs": [],
   "source": [
    "import matplotlib.pyplot as plt\n",
    "import numpy as np\n",
    "\n",
    "from linear_geodesic_optimization.mesh.rectangle import Mesh as RectangleMesh\n",
    "from linear_geodesic_optimization.optimization.curvature import Computer as Curvature\n",
    "from linear_geodesic_optimization.optimization.geodesic import Computer as Geodesic\n",
    "from linear_geodesic_optimization.optimization.laplacian import Computer as Laplacian\n",
    "from linear_geodesic_optimization.optimization.smooth_loss import Computer as SmoothLoss\n",
    "from linear_geodesic_optimization.plot import get_mesh_plot, get_heat_map"
   ]
  },
  {
   "cell_type": "code",
   "execution_count": null,
   "metadata": {},
   "outputs": [],
   "source": [
    "width = 30\n",
    "height = 30\n",
    "scale = 10.\n",
    "mesh = RectangleMesh(width, height, scale)\n",
    "x, y, _ = mesh.get_coordinates().T\n",
    "z = sum(\n",
    "    scale * np.exp(-((x - mu[0])**2 + (y - mu[1])**2) * 25 / scale**2) / 5\n",
    "    for mu in [\n",
    "        (-scale / 4, -scale / 4),\n",
    "        (-scale / 4, scale / 4),\n",
    "        (scale / 4, -scale / 4),\n",
    "        (scale / 4, scale / 4),\n",
    "    ]\n",
    ")\n",
    "mesh.set_parameters(z)\n",
    "get_mesh_plot(mesh)\n",
    "plt.show()"
   ]
  },
  {
   "cell_type": "code",
   "execution_count": null,
   "metadata": {},
   "outputs": [],
   "source": [
    "laplacian = Laplacian(mesh)\n",
    "curvature = Curvature(mesh, laplacian)\n",
    "smooth_loss = SmoothLoss(mesh ,laplacian, curvature)\n",
    "smooth_loss.forward()\n",
    "kappa = curvature.kappa_G\n",
    "print(np.amin(kappa), np.amax(kappa))\n",
    "print(smooth_loss.loss)"
   ]
  },
  {
   "cell_type": "code",
   "execution_count": null,
   "metadata": {},
   "outputs": [],
   "source": [
    "vertices = mesh.get_coordinates()\n",
    "x = list(sorted(set(x)))\n",
    "y = list(sorted(set(y)))\n",
    "z = vertices[:,2]\n",
    "\n",
    "curvature.forward()\n",
    "kappa = np.array(curvature.kappa_G).reshape(width, height).T\n",
    "kappa[0,:] = 0.\n",
    "kappa[-1,:] = 0.\n",
    "kappa[:,0] = 0.\n",
    "kappa[:,-1] = 0.\n",
    "np.clip(kappa, -3, 3, kappa)\n",
    "get_heat_map(x, y, kappa, 'Curvature')\n",
    "plt.show()"
   ]
  },
  {
   "cell_type": "code",
   "execution_count": null,
   "metadata": {},
   "outputs": [],
   "source": [
    "target_points = [\n",
    "    (-scale / 4, -scale / 4),\n",
    "    (-scale / 4, 0.),\n",
    "    (-scale / 4, scale / 4),\n",
    "    (0., -scale / 4),\n",
    "    (0., 0.),\n",
    "    (0., scale / 4),\n",
    "    (scale / 4, -scale / 4),\n",
    "    (scale / 4, 0.),\n",
    "    (scale / 4, scale / 4),\n",
    "]\n",
    "target_curvatures = [\n",
    "    (coordinate, kappa[mesh.nearest_vertex(coordinate).index()])\n",
    "    for coordinate in target_points\n",
    "]\n",
    "print(target_curvatures)"
   ]
  }
 ],
 "metadata": {
  "kernelspec": {
   "display_name": "Python 3",
   "language": "python",
   "name": "python3"
  },
  "language_info": {
   "codemirror_mode": {
    "name": "ipython",
    "version": 3
   },
   "file_extension": ".py",
   "mimetype": "text/x-python",
   "name": "python",
   "nbconvert_exporter": "python",
   "pygments_lexer": "ipython3",
   "version": "3.11.5"
  },
  "orig_nbformat": 4,
  "vscode": {
   "interpreter": {
    "hash": "5d89b9b29506d1129e078cbafd5718f53824d76c4e79258120e482e59221da99"
   }
  }
 },
 "nbformat": 4,
 "nbformat_minor": 2
}
